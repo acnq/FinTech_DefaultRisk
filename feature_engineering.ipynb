{
 "metadata": {
  "language_info": {
   "codemirror_mode": {
    "name": "ipython",
    "version": 3
   },
   "file_extension": ".py",
   "mimetype": "text/x-python",
   "name": "python",
   "nbconvert_exporter": "python",
   "pygments_lexer": "ipython3",
   "version": "3.7.7-final"
  },
  "orig_nbformat": 2,
  "kernelspec": {
   "name": "python3",
   "display_name": "Python 3"
  }
 },
 "nbformat": 4,
 "nbformat_minor": 2,
 "cells": [
  {
   "cell_type": "markdown",
   "metadata": {},
   "source": [
    "## Imports and Read Data"
   ]
  },
  {
   "cell_type": "code",
   "execution_count": 2,
   "metadata": {},
   "outputs": [],
   "source": [
    "# numpy and pandas for data manipulation\n",
    "import numpy as np\n",
    "import pandas as pd \n",
    "\n",
    "# sklearn preprocessing for dealing with categorical variables\n",
    "from sklearn.preprocessing import LabelEncoder\n",
    "\n",
    "# File system manangement\n",
    "import os\n",
    "\n",
    "# Suppress warnings \n",
    "import warnings\n",
    "warnings.filterwarnings('ignore')\n",
    "\n",
    "# matplotlib and seaborn for plotting\n",
    "import matplotlib.pyplot as plt\n",
    "import seaborn as sns\n",
    "\n",
    "FILE_NAME = \"vis.ipynb\"\n",
    "PARENT_DIR = os.path.abspath(os.path.join(os.path.dirname(FILE_NAME), \".\"))\n",
    "\n",
    "app_train = pd.read_csv( PARENT_DIR + '/data/processed_train.csv')\n",
    "app_test = pd.read_csv( PARENT_DIR + '/data/processed_test.csv')"
   ]
  },
  {
   "cell_type": "code",
   "execution_count": null,
   "metadata": {},
   "outputs": [],
   "source": [
    "app_train.shape"
   ]
  },
  {
   "cell_type": "markdown",
   "metadata": {},
   "source": [
    "## Polynomial Features\n",
    "### 提取兴趣特征"
   ]
  },
  {
   "cell_type": "code",
   "execution_count": null,
   "metadata": {},
   "outputs": [],
   "source": [
    "# Make a new dataframe for polynomial features\n",
    "poly_features = app_train[['EXT_SOURCE_1', 'EXT_SOURCE_2', 'EXT_SOURCE_3', 'DAYS_BIRTH', 'TARGET']]\n",
    "poly_features_test = app_test[['EXT_SOURCE_1', 'EXT_SOURCE_2', 'EXT_SOURCE_3', 'DAYS_BIRTH']]\n"
   ]
  },
  {
   "cell_type": "markdown",
   "metadata": {},
   "source": [
    "### 简单的缺失值处理"
   ]
  },
  {
   "cell_type": "code",
   "execution_count": null,
   "metadata": {},
   "outputs": [],
   "source": [
    "# imputer for handling missing values\n",
    "from sklearn.impute import SimpleImputer\n",
    "imputer = SimpleImputer(strategy = 'median')\n",
    "\n",
    "poly_target = poly_features['TARGET']\n",
    "poly_features = poly_features.drop(columns = ['TARGET'])\n",
    "\n",
    "# Need to impute missing values\n",
    "poly_features = imputer.fit_transform(poly_features)\n",
    "poly_features_test = imputer.transform(poly_features_test)"
   ]
  },
  {
   "cell_type": "markdown",
   "metadata": {},
   "source": [
    "### 直接构造多项式特征"
   ]
  },
  {
   "cell_type": "code",
   "execution_count": null,
   "metadata": {
    "tags": []
   },
   "outputs": [],
   "source": [
    "from sklearn.preprocessing import PolynomialFeatures\n",
    "                                  \n",
    "# Create the polynomial object with specified degree\n",
    "poly_transformer = PolynomialFeatures(degree = 3)\n",
    "\n",
    "# Train the polynomial features\n",
    "poly_transformer.fit(poly_features)\n",
    "\n",
    "# Transform the features\n",
    "poly_features = poly_transformer.transform(poly_features)\n",
    "poly_features_test = poly_transformer.transform(poly_features_test)"
   ]
  },
  {
   "cell_type": "markdown",
   "metadata": {},
   "source": [
    "### 瞧瞧都构造出了什么"
   ]
  },
  {
   "cell_type": "code",
   "execution_count": null,
   "metadata": {},
   "outputs": [],
   "source": [
    "poly_transformer.get_feature_names(input_features = ['EXT_SOURCE_1', 'EXT_SOURCE_2', 'EXT_SOURCE_3', 'DAYS_BIRTH'])[:15]"
   ]
  },
  {
   "cell_type": "markdown",
   "metadata": {},
   "source": [
    "### 新特征相关性可视化"
   ]
  },
  {
   "cell_type": "code",
   "execution_count": null,
   "metadata": {
    "tags": []
   },
   "outputs": [],
   "source": [
    "# Create a dataframe of the features \n",
    "poly_features = pd.DataFrame(poly_features, \n",
    "                             columns = poly_transformer.get_feature_names(['EXT_SOURCE_1', 'EXT_SOURCE_2', \n",
    "                                                                           'EXT_SOURCE_3', 'DAYS_BIRTH']))\n",
    "\n",
    "# Add in the target\n",
    "poly_features['TARGET'] = poly_target\n",
    "\n",
    "# Find the correlations with the target\n",
    "poly_corrs = poly_features.corr()['TARGET']"
   ]
  },
  {
   "cell_type": "code",
   "execution_count": null,
   "metadata": {},
   "outputs": [],
   "source": [
    "# Display most relevant\n",
    "corrs = poly_corrs.drop(['TARGET']).drop(['1']).abs().sort_values()\n",
    "\n",
    "plt.figure(figsize = (10, 10))\n",
    "plt.bar( x=0, bottom=corrs.index.astype(str), height=0.25, width=abs(corrs.values), orientation=\"horizontal\")\n",
    "plt.title('New Feature Correlations with target');"
   ]
  },
  {
   "cell_type": "code",
   "execution_count": null,
   "metadata": {},
   "outputs": [],
   "source": [
    "plt.figure(figsize = (12, 20))\n",
    "# iterate through the new features\n",
    "for i, feature in enumerate(['EXT_SOURCE_2 EXT_SOURCE_3', 'EXT_SOURCE_1 EXT_SOURCE_2 EXT_SOURCE_3', 'EXT_SOURCE_2 EXT_SOURCE_3 DAYS_BIRTH', 'EXT_SOURCE_2 DAYS_BIRTH']):\n",
    "    \n",
    "    # create a new subplot for each source\n",
    "    plt.subplot(4, 1, i + 1)\n",
    "    # plot repaid loans\n",
    "    sns.kdeplot(poly_features.loc[poly_features['TARGET'] == 0, feature], label = 'target == 0')\n",
    "    # plot loans that were not repaid\n",
    "    sns.kdeplot(poly_features.loc[poly_features['TARGET'] == 1, feature], label = 'target == 1')\n",
    "    \n",
    "    # Label the plots\n",
    "    plt.title('Distribution of %s by Target Value' % feature)\n",
    "    plt.xlabel('%s' % feature); plt.ylabel('Density');\n",
    "    \n",
    "plt.tight_layout(h_pad = 2.5)"
   ]
  },
  {
   "cell_type": "markdown",
   "metadata": {},
   "source": [
    "### Merge到原数据集中"
   ]
  },
  {
   "cell_type": "code",
   "execution_count": null,
   "metadata": {
    "tags": []
   },
   "outputs": [],
   "source": [
    "# Put test features into dataframe\n",
    "poly_features_test = pd.DataFrame(poly_features_test, \n",
    "                                  columns = poly_transformer.get_feature_names(['EXT_SOURCE_1', 'EXT_SOURCE_2', 'EXT_SOURCE_3', 'DAYS_BIRTH']))\n",
    "\n",
    "# Merge polynomial features into training dataframe\n",
    "poly_features['SK_ID_CURR'] = app_train['SK_ID_CURR']\n",
    "app_train_poly = app_train.merge(poly_features, on = 'SK_ID_CURR', how = 'left')\n",
    "\n",
    "# Merge polnomial features into testing dataframe\n",
    "poly_features_test['SK_ID_CURR'] = app_test['SK_ID_CURR']\n",
    "app_test_poly = app_test.merge(poly_features_test, on = 'SK_ID_CURR', how = 'left')\n",
    "\n",
    "# Align the dataframes\n",
    "app_train_poly, app_test_poly = app_train_poly.align(app_test_poly, join = 'inner', axis = 1)\n",
    "\n",
    "# Print out the new shapes\n",
    "print('Training data with polynomial features shape: ', app_train_poly.shape)\n",
    "print('Testing data with polynomial features shape:  ', app_test_poly.shape)"
   ]
  },
  {
   "cell_type": "markdown",
   "metadata": {},
   "source": [
    "## Domain Knowledge Features\n",
    "### 训练集构造特征"
   ]
  },
  {
   "cell_type": "code",
   "execution_count": null,
   "metadata": {},
   "outputs": [],
   "source": [
    "app_train_domain = app_train.copy()\n",
    "app_test_domain = app_test.copy()\n",
    "\n",
    "app_train_domain['CREDIT_INCOME_PERCENT'] = app_train_domain['AMT_CREDIT'] / app_train_domain['AMT_INCOME_TOTAL']\n",
    "app_train_domain['ANNUITY_INCOME_PERCENT'] = app_train_domain['AMT_ANNUITY'] / app_train_domain['AMT_INCOME_TOTAL']\n",
    "app_train_domain['ANNUITY_CREDIT_PERCENT'] = app_train_domain['AMT_ANNUITY'] / app_train_domain['AMT_CREDIT']\n",
    "app_train_domain['DAYS_EMPLOYED_PERCENT'] = app_train_domain['DAYS_EMPLOYED'] / app_train_domain['DAYS_BIRTH']"
   ]
  },
  {
   "cell_type": "markdown",
   "metadata": {},
   "source": [
    "### 测试集构造特征"
   ]
  },
  {
   "cell_type": "code",
   "execution_count": null,
   "metadata": {},
   "outputs": [],
   "source": [
    "app_test_domain['CREDIT_INCOME_PERCENT'] = app_test_domain['AMT_CREDIT'] / app_test_domain['AMT_INCOME_TOTAL']\n",
    "app_test_domain['ANNUITY_INCOME_PERCENT'] = app_test_domain['AMT_ANNUITY'] / app_test_domain['AMT_INCOME_TOTAL']\n",
    "app_test_domain['ANNUITY_CREDIT_PERCENT'] = app_test_domain['AMT_ANNUITY'] / app_test_domain['AMT_CREDIT']\n",
    "app_test_domain['DAYS_EMPLOYED_PERCENT'] = app_test_domain['DAYS_EMPLOYED'] / app_test_domain['DAYS_BIRTH']"
   ]
  },
  {
   "cell_type": "markdown",
   "metadata": {},
   "source": [
    "### 特征相关性"
   ]
  },
  {
   "cell_type": "code",
   "execution_count": null,
   "metadata": {},
   "outputs": [],
   "source": [
    "domain_features = app_train_domain[['AMT_CREDIT', 'AMT_INCOME_TOTAL', 'AMT_ANNUITY', 'DAYS_EMPLOYED', 'DAYS_BIRTH', 'CREDIT_INCOME_PERCENT', 'ANNUITY_INCOME_PERCENT', 'ANNUITY_CREDIT_PERCENT', 'DAYS_EMPLOYED_PERCENT', 'TARGET']]\n",
    "domain_corrs = domain_features.corr()['TARGET'].sort_values()\n",
    "domain_corrs"
   ]
  },
  {
   "cell_type": "code",
   "execution_count": null,
   "metadata": {},
   "outputs": [],
   "source": [
    "# Display most relevant\n",
    "d_corrs = domain_corrs.drop(['TARGET']).abs().sort_values()\n",
    "\n",
    "plt.figure(figsize = (10, 5))\n",
    "plt.bar( x=0, bottom=d_corrs.index.astype(str), height=0.5, width=d_corrs.values, orientation=\"horizontal\")\n",
    "plt.title('New Feature Correlations with target');"
   ]
  },
  {
   "cell_type": "markdown",
   "metadata": {},
   "source": [
    "### 训练集可视化"
   ]
  },
  {
   "cell_type": "code",
   "execution_count": null,
   "metadata": {},
   "outputs": [],
   "source": [
    "plt.figure(figsize = (12, 20))\n",
    "# iterate through the new features\n",
    "for i, feature in enumerate(['CREDIT_INCOME_PERCENT', 'ANNUITY_INCOME_PERCENT', 'ANNUITY_CREDIT_PERCENT', 'DAYS_EMPLOYED_PERCENT']):\n",
    "    \n",
    "    # create a new subplot for each source\n",
    "    plt.subplot(4, 1, i + 1)\n",
    "    # plot repaid loans\n",
    "    sns.kdeplot(app_train_domain.loc[app_train_domain['TARGET'] == 0, feature], label = 'target == 0')\n",
    "    # plot loans that were not repaid\n",
    "    sns.kdeplot(app_train_domain.loc[app_train_domain['TARGET'] == 1, feature], label = 'target == 1')\n",
    "    \n",
    "    # Label the plots\n",
    "    plt.title('Distribution of %s by Target Value' % feature)\n",
    "    plt.xlabel('%s' % feature); plt.ylabel('Density');\n",
    "    \n",
    "plt.tight_layout(h_pad = 2.5)"
   ]
  },
  {
   "cell_type": "markdown",
   "metadata": {},
   "source": [
    "## Feature Tools"
   ]
  },
  {
   "cell_type": "code",
   "execution_count": 6,
   "metadata": {},
   "outputs": [],
   "source": [
    "app_train_auto = app_train.copy()\n",
    "app_test_auto = app_test.copy()\n",
    "\n",
    "app_train_auto = app_train_auto.sort_values('SK_ID_CURR').reset_index(drop = True).loc[:1000, :]"
   ]
  },
  {
   "cell_type": "code",
   "execution_count": 7,
   "metadata": {},
   "outputs": [],
   "source": [
    "import featuretools as ft\n",
    "\n",
    "# Entity set with id applications\n",
    "es = ft.EntitySet(id = 'clients')\n",
    "\n",
    "# Entities with a unique index\n",
    "es = es.entity_from_dataframe(entity_id = 'app_train', dataframe = app_train_auto, index = 'SK_ID_CURR')"
   ]
  },
  {
   "cell_type": "markdown",
   "metadata": {},
   "source": [
    "### Default primitives"
   ]
  },
  {
   "cell_type": "code",
   "execution_count": 4,
   "metadata": {},
   "outputs": [
    {
     "output_type": "execute_result",
     "data": {
      "text/plain": "                               name       type  dask_compatible  \\\n22                 less_than_scalar  transform             True   \n23                          is_null  transform             True   \n24                          cum_min  transform            False   \n25            modulo_numeric_scalar  transform             True   \n26            greater_than_equal_to  transform             True   \n27                           negate  transform             True   \n28                        cum_count  transform            False   \n29  scalar_subtract_numeric_feature  transform             True   \n30                        not_equal  transform            False   \n31                              age  transform            False   \n32               add_numeric_scalar  transform             True   \n33          multiply_numeric_scalar  transform             True   \n34        less_than_equal_to_scalar  transform             True   \n35                        num_words  transform             True   \n36                             diff  transform            False   \n37                           minute  transform             True   \n38                 multiply_boolean  transform             True   \n39                 not_equal_scalar  transform             True   \n40                         latitude  transform            False   \n41                         absolute  transform             True   \n42                             week  transform             True   \n43            divide_numeric_scalar  transform             True   \n44                     equal_scalar  transform             True   \n45                     greater_than  transform             True   \n46                            month  transform             True   \n47                          cum_sum  transform            False   \n48               less_than_equal_to  transform             True   \n49                       time_since  transform             True   \n50                   num_characters  transform             True   \n51                             hour  transform             True   \n52                              and  transform             True   \n53                        less_than  transform             True   \n54                       is_weekend  transform             True   \n55                          cum_max  transform            False   \n56                 subtract_numeric  transform             True   \n57                   modulo_numeric  transform             True   \n58                          weekday  transform             True   \n59                        longitude  transform            False   \n60                               or  transform             True   \n61                   divide_numeric  transform             True   \n62              greater_than_scalar  transform             True   \n63              time_since_previous  transform            False   \n64                modulo_by_feature  transform             True   \n65                 multiply_numeric  transform             True   \n66                        haversine  transform            False   \n67                           second  transform             True   \n68                              day  transform             True   \n69                divide_by_feature  transform             True   \n70                      add_numeric  transform             True   \n71     greater_than_equal_to_scalar  transform             True   \n72                       percentile  transform            False   \n73                              not  transform             True   \n74                             isin  transform             True   \n75                         cum_mean  transform            False   \n76                            equal  transform            False   \n77                             year  transform             True   \n78          subtract_numeric_scalar  transform             True   \n\n                                                                    description  \n22                           Determines if values are less than a given scalar.  \n23                                               Determines if a value is null.  \n24                                           Calculates the cumulative minimum.  \n25                   Return the modulo of each element in the list by a scalar.  \n26  Determines if values in one list are greater than or equal to another list.  \n27                                                     Negates a numeric value.  \n28                                             Calculates the cumulative count.  \n29                         Subtract each value in the list from a given scalar.  \n30              Determines if values in one list are not equal to another list.  \n31               Calculates the age in years as a floating point number given a  \n32                                      Add a scalar to each value in the list.  \n33                               Multiply each element in the list by a scalar.  \n34               Determines if values are less than or equal to a given scalar.  \n35           Determines the number of words in a string by counting the spaces.  \n36                   Compute the difference between the value in a list and the  \n37                                  Determines the minutes value of a datetime.  \n38                  Element-wise multiplication of two lists of boolean values.  \n39              Determines if values in a list are not equal to a given scalar.  \n40                   Returns the first tuple value in a list of LatLong tuples.  \n41                                     Computes the absolute value of a number.  \n42                             Determines the week of the year from a datetime.  \n43                                 Divide each element in the list by a scalar.  \n44                  Determines if values in a list are equal to a given scalar.  \n45              Determines if values in one list are greater than another list.  \n46                                    Determines the month value of a datetime.  \n47                                               Calculates the cumulative sum.  \n48     Determines if values in one list are less than or equal to another list.  \n49                 Calculates time from a value to a specified cutoff datetime.  \n50                             Calculates the number of characters in a string.  \n51                                     Determines the hour value of a datetime.  \n52                                       Element-wise logical AND of two lists.  \n53                 Determines if values in one list are less than another list.  \n54                                     Determines if a date falls on a weekend.  \n55                                           Calculates the cumulative maximum.  \n56                                       Element-wise subtraction of two lists.  \n57                                            Element-wise modulo of two lists.  \n58                              Determines the day of the week from a datetime.  \n59                  Returns the second tuple value in a list of LatLong tuples.  \n60                                        Element-wise logical OR of two lists.  \n61                                          Element-wise division of two lists.  \n62                        Determines if values are greater than a given scalar.  \n63                         Compute the time since the previous entry in a list.  \n64                   Return the modulo of a scalar by each element in the list.  \n65                                    Element-wise multiplication of two lists.  \n66            Calculates the approximate haversine distance between two LatLong  \n67                                  Determines the seconds value of a datetime.  \n68                             Determines the day of the month from a datetime.  \n69                                   Divide a scalar by each value in the list.  \n70                                          Element-wise addition of two lists.  \n71            Determines if values are greater than or equal to a given scalar.  \n72                     Determines the percentile rank for each value in a list.  \n73                                                     Negates a boolean value.  \n74                    Determines whether a value is present in a provided list.  \n75                                              Calculates the cumulative mean.  \n76                  Determines if values in one list are equal to another list.  \n77                                     Determines the year value of a datetime.  \n78                             Subtract a scalar from each element in the list.  ",
      "text/html": "<div>\n<style scoped>\n    .dataframe tbody tr th:only-of-type {\n        vertical-align: middle;\n    }\n\n    .dataframe tbody tr th {\n        vertical-align: top;\n    }\n\n    .dataframe thead th {\n        text-align: right;\n    }\n</style>\n<table border=\"1\" class=\"dataframe\">\n  <thead>\n    <tr style=\"text-align: right;\">\n      <th></th>\n      <th>name</th>\n      <th>type</th>\n      <th>dask_compatible</th>\n      <th>description</th>\n    </tr>\n  </thead>\n  <tbody>\n    <tr>\n      <th>22</th>\n      <td>less_than_scalar</td>\n      <td>transform</td>\n      <td>True</td>\n      <td>Determines if values are less than a given scalar.</td>\n    </tr>\n    <tr>\n      <th>23</th>\n      <td>is_null</td>\n      <td>transform</td>\n      <td>True</td>\n      <td>Determines if a value is null.</td>\n    </tr>\n    <tr>\n      <th>24</th>\n      <td>cum_min</td>\n      <td>transform</td>\n      <td>False</td>\n      <td>Calculates the cumulative minimum.</td>\n    </tr>\n    <tr>\n      <th>25</th>\n      <td>modulo_numeric_scalar</td>\n      <td>transform</td>\n      <td>True</td>\n      <td>Return the modulo of each element in the list by a scalar.</td>\n    </tr>\n    <tr>\n      <th>26</th>\n      <td>greater_than_equal_to</td>\n      <td>transform</td>\n      <td>True</td>\n      <td>Determines if values in one list are greater than or equal to another list.</td>\n    </tr>\n    <tr>\n      <th>27</th>\n      <td>negate</td>\n      <td>transform</td>\n      <td>True</td>\n      <td>Negates a numeric value.</td>\n    </tr>\n    <tr>\n      <th>28</th>\n      <td>cum_count</td>\n      <td>transform</td>\n      <td>False</td>\n      <td>Calculates the cumulative count.</td>\n    </tr>\n    <tr>\n      <th>29</th>\n      <td>scalar_subtract_numeric_feature</td>\n      <td>transform</td>\n      <td>True</td>\n      <td>Subtract each value in the list from a given scalar.</td>\n    </tr>\n    <tr>\n      <th>30</th>\n      <td>not_equal</td>\n      <td>transform</td>\n      <td>False</td>\n      <td>Determines if values in one list are not equal to another list.</td>\n    </tr>\n    <tr>\n      <th>31</th>\n      <td>age</td>\n      <td>transform</td>\n      <td>False</td>\n      <td>Calculates the age in years as a floating point number given a</td>\n    </tr>\n    <tr>\n      <th>32</th>\n      <td>add_numeric_scalar</td>\n      <td>transform</td>\n      <td>True</td>\n      <td>Add a scalar to each value in the list.</td>\n    </tr>\n    <tr>\n      <th>33</th>\n      <td>multiply_numeric_scalar</td>\n      <td>transform</td>\n      <td>True</td>\n      <td>Multiply each element in the list by a scalar.</td>\n    </tr>\n    <tr>\n      <th>34</th>\n      <td>less_than_equal_to_scalar</td>\n      <td>transform</td>\n      <td>True</td>\n      <td>Determines if values are less than or equal to a given scalar.</td>\n    </tr>\n    <tr>\n      <th>35</th>\n      <td>num_words</td>\n      <td>transform</td>\n      <td>True</td>\n      <td>Determines the number of words in a string by counting the spaces.</td>\n    </tr>\n    <tr>\n      <th>36</th>\n      <td>diff</td>\n      <td>transform</td>\n      <td>False</td>\n      <td>Compute the difference between the value in a list and the</td>\n    </tr>\n    <tr>\n      <th>37</th>\n      <td>minute</td>\n      <td>transform</td>\n      <td>True</td>\n      <td>Determines the minutes value of a datetime.</td>\n    </tr>\n    <tr>\n      <th>38</th>\n      <td>multiply_boolean</td>\n      <td>transform</td>\n      <td>True</td>\n      <td>Element-wise multiplication of two lists of boolean values.</td>\n    </tr>\n    <tr>\n      <th>39</th>\n      <td>not_equal_scalar</td>\n      <td>transform</td>\n      <td>True</td>\n      <td>Determines if values in a list are not equal to a given scalar.</td>\n    </tr>\n    <tr>\n      <th>40</th>\n      <td>latitude</td>\n      <td>transform</td>\n      <td>False</td>\n      <td>Returns the first tuple value in a list of LatLong tuples.</td>\n    </tr>\n    <tr>\n      <th>41</th>\n      <td>absolute</td>\n      <td>transform</td>\n      <td>True</td>\n      <td>Computes the absolute value of a number.</td>\n    </tr>\n    <tr>\n      <th>42</th>\n      <td>week</td>\n      <td>transform</td>\n      <td>True</td>\n      <td>Determines the week of the year from a datetime.</td>\n    </tr>\n    <tr>\n      <th>43</th>\n      <td>divide_numeric_scalar</td>\n      <td>transform</td>\n      <td>True</td>\n      <td>Divide each element in the list by a scalar.</td>\n    </tr>\n    <tr>\n      <th>44</th>\n      <td>equal_scalar</td>\n      <td>transform</td>\n      <td>True</td>\n      <td>Determines if values in a list are equal to a given scalar.</td>\n    </tr>\n    <tr>\n      <th>45</th>\n      <td>greater_than</td>\n      <td>transform</td>\n      <td>True</td>\n      <td>Determines if values in one list are greater than another list.</td>\n    </tr>\n    <tr>\n      <th>46</th>\n      <td>month</td>\n      <td>transform</td>\n      <td>True</td>\n      <td>Determines the month value of a datetime.</td>\n    </tr>\n    <tr>\n      <th>47</th>\n      <td>cum_sum</td>\n      <td>transform</td>\n      <td>False</td>\n      <td>Calculates the cumulative sum.</td>\n    </tr>\n    <tr>\n      <th>48</th>\n      <td>less_than_equal_to</td>\n      <td>transform</td>\n      <td>True</td>\n      <td>Determines if values in one list are less than or equal to another list.</td>\n    </tr>\n    <tr>\n      <th>49</th>\n      <td>time_since</td>\n      <td>transform</td>\n      <td>True</td>\n      <td>Calculates time from a value to a specified cutoff datetime.</td>\n    </tr>\n    <tr>\n      <th>50</th>\n      <td>num_characters</td>\n      <td>transform</td>\n      <td>True</td>\n      <td>Calculates the number of characters in a string.</td>\n    </tr>\n    <tr>\n      <th>51</th>\n      <td>hour</td>\n      <td>transform</td>\n      <td>True</td>\n      <td>Determines the hour value of a datetime.</td>\n    </tr>\n    <tr>\n      <th>52</th>\n      <td>and</td>\n      <td>transform</td>\n      <td>True</td>\n      <td>Element-wise logical AND of two lists.</td>\n    </tr>\n    <tr>\n      <th>53</th>\n      <td>less_than</td>\n      <td>transform</td>\n      <td>True</td>\n      <td>Determines if values in one list are less than another list.</td>\n    </tr>\n    <tr>\n      <th>54</th>\n      <td>is_weekend</td>\n      <td>transform</td>\n      <td>True</td>\n      <td>Determines if a date falls on a weekend.</td>\n    </tr>\n    <tr>\n      <th>55</th>\n      <td>cum_max</td>\n      <td>transform</td>\n      <td>False</td>\n      <td>Calculates the cumulative maximum.</td>\n    </tr>\n    <tr>\n      <th>56</th>\n      <td>subtract_numeric</td>\n      <td>transform</td>\n      <td>True</td>\n      <td>Element-wise subtraction of two lists.</td>\n    </tr>\n    <tr>\n      <th>57</th>\n      <td>modulo_numeric</td>\n      <td>transform</td>\n      <td>True</td>\n      <td>Element-wise modulo of two lists.</td>\n    </tr>\n    <tr>\n      <th>58</th>\n      <td>weekday</td>\n      <td>transform</td>\n      <td>True</td>\n      <td>Determines the day of the week from a datetime.</td>\n    </tr>\n    <tr>\n      <th>59</th>\n      <td>longitude</td>\n      <td>transform</td>\n      <td>False</td>\n      <td>Returns the second tuple value in a list of LatLong tuples.</td>\n    </tr>\n    <tr>\n      <th>60</th>\n      <td>or</td>\n      <td>transform</td>\n      <td>True</td>\n      <td>Element-wise logical OR of two lists.</td>\n    </tr>\n    <tr>\n      <th>61</th>\n      <td>divide_numeric</td>\n      <td>transform</td>\n      <td>True</td>\n      <td>Element-wise division of two lists.</td>\n    </tr>\n    <tr>\n      <th>62</th>\n      <td>greater_than_scalar</td>\n      <td>transform</td>\n      <td>True</td>\n      <td>Determines if values are greater than a given scalar.</td>\n    </tr>\n    <tr>\n      <th>63</th>\n      <td>time_since_previous</td>\n      <td>transform</td>\n      <td>False</td>\n      <td>Compute the time since the previous entry in a list.</td>\n    </tr>\n    <tr>\n      <th>64</th>\n      <td>modulo_by_feature</td>\n      <td>transform</td>\n      <td>True</td>\n      <td>Return the modulo of a scalar by each element in the list.</td>\n    </tr>\n    <tr>\n      <th>65</th>\n      <td>multiply_numeric</td>\n      <td>transform</td>\n      <td>True</td>\n      <td>Element-wise multiplication of two lists.</td>\n    </tr>\n    <tr>\n      <th>66</th>\n      <td>haversine</td>\n      <td>transform</td>\n      <td>False</td>\n      <td>Calculates the approximate haversine distance between two LatLong</td>\n    </tr>\n    <tr>\n      <th>67</th>\n      <td>second</td>\n      <td>transform</td>\n      <td>True</td>\n      <td>Determines the seconds value of a datetime.</td>\n    </tr>\n    <tr>\n      <th>68</th>\n      <td>day</td>\n      <td>transform</td>\n      <td>True</td>\n      <td>Determines the day of the month from a datetime.</td>\n    </tr>\n    <tr>\n      <th>69</th>\n      <td>divide_by_feature</td>\n      <td>transform</td>\n      <td>True</td>\n      <td>Divide a scalar by each value in the list.</td>\n    </tr>\n    <tr>\n      <th>70</th>\n      <td>add_numeric</td>\n      <td>transform</td>\n      <td>True</td>\n      <td>Element-wise addition of two lists.</td>\n    </tr>\n    <tr>\n      <th>71</th>\n      <td>greater_than_equal_to_scalar</td>\n      <td>transform</td>\n      <td>True</td>\n      <td>Determines if values are greater than or equal to a given scalar.</td>\n    </tr>\n    <tr>\n      <th>72</th>\n      <td>percentile</td>\n      <td>transform</td>\n      <td>False</td>\n      <td>Determines the percentile rank for each value in a list.</td>\n    </tr>\n    <tr>\n      <th>73</th>\n      <td>not</td>\n      <td>transform</td>\n      <td>True</td>\n      <td>Negates a boolean value.</td>\n    </tr>\n    <tr>\n      <th>74</th>\n      <td>isin</td>\n      <td>transform</td>\n      <td>True</td>\n      <td>Determines whether a value is present in a provided list.</td>\n    </tr>\n    <tr>\n      <th>75</th>\n      <td>cum_mean</td>\n      <td>transform</td>\n      <td>False</td>\n      <td>Calculates the cumulative mean.</td>\n    </tr>\n    <tr>\n      <th>76</th>\n      <td>equal</td>\n      <td>transform</td>\n      <td>False</td>\n      <td>Determines if values in one list are equal to another list.</td>\n    </tr>\n    <tr>\n      <th>77</th>\n      <td>year</td>\n      <td>transform</td>\n      <td>True</td>\n      <td>Determines the year value of a datetime.</td>\n    </tr>\n    <tr>\n      <th>78</th>\n      <td>subtract_numeric_scalar</td>\n      <td>transform</td>\n      <td>True</td>\n      <td>Subtract a scalar from each element in the list.</td>\n    </tr>\n  </tbody>\n</table>\n</div>"
     },
     "metadata": {},
     "execution_count": 4
    }
   ],
   "source": [
    "primitives = ft.list_primitives()\n",
    "pd.options.display.max_colwidth = 100\n",
    "primitives[primitives['type'] == 'transform']"
   ]
  },
  {
   "cell_type": "code",
   "execution_count": 8,
   "metadata": {
    "tags": []
   },
   "outputs": [
    {
     "output_type": "stream",
     "name": "stdout",
     "text": "Built 1681 features\nElapsed: 00:01 | Progress: 100%|██████████\n1681 Total Features\n"
    }
   ],
   "source": [
    "# Default primitives from featuretools\n",
    "default_agg_primitives = []\n",
    "default_trans_primitives =  [\"diff\", \"divide_by_feature\", \"absolute\", \"haversine\"]\n",
    "\n",
    "# DFS with specified primitives\n",
    "feature_matrix, feature_names = ft.dfs(entityset = es, target_entity = 'app_train',\n",
    "                    trans_primitives = default_trans_primitives,\n",
    "                    agg_primitives = default_agg_primitives,\n",
    "                    max_depth = 2, features_only = False, verbose = True)\n",
    "\n",
    "print('%d Total Features' % len(feature_names))"
   ]
  },
  {
   "cell_type": "code",
   "execution_count": null,
   "metadata": {},
   "outputs": [],
   "source": [
    "feature_matrix.shape"
   ]
  },
  {
   "cell_type": "code",
   "execution_count": null,
   "metadata": {},
   "outputs": [],
   "source": [
    "feature_names[-20:]"
   ]
  },
  {
   "cell_type": "code",
   "execution_count": null,
   "metadata": {},
   "outputs": [],
   "source": []
  }
 ]
}